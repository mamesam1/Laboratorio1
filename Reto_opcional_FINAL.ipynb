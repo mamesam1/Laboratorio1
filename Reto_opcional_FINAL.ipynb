{
  "nbformat": 4,
  "nbformat_minor": 0,
  "metadata": {
    "colab": {
      "provenance": [],
      "include_colab_link": true
    },
    "kernelspec": {
      "name": "python3",
      "display_name": "Python 3"
    },
    "language_info": {
      "name": "python"
    }
  },
  "cells": [
    {
      "cell_type": "markdown",
      "metadata": {
        "id": "view-in-github",
        "colab_type": "text"
      },
      "source": [
        "<a href=\"https://colab.research.google.com/github/mamesam1/Laboratorio1/blob/main/Reto_opcional_FINAL.ipynb\" target=\"_parent\"><img src=\"https://colab.research.google.com/assets/colab-badge.svg\" alt=\"Open In Colab\"/></a>"
      ]
    },
    {
      "cell_type": "markdown",
      "source": [
        "# ** RETO (opcional): Implementación algoritmo de descenso de gradiente en problema con múltiples minínimos locales **\n",
        "**Facultad de ingeniería, departamento de Ingeniería Biomédica, Universidad de los Andes**\\\n",
        "**IBIO-2440 Programación científica**"
      ],
      "metadata": {
        "id": "775dekHVI9gl"
      }
    },
    {
      "cell_type": "markdown",
      "source": [
        "**Nombres de los integrantes**\n",
        "\n",
        "\n",
        "1.   Nombre integrante 1\n",
        "2.   Nombre integrante 2\n",
        "\n",
        "**Número del grupo**\n",
        "\n",
        "*Escribir el número del grupo*"
      ],
      "metadata": {
        "id": "FHIOLOzzJK2L"
      }
    },
    {
      "cell_type": "markdown",
      "source": [
        "Considere el problema de optimización:\n",
        "\n",
        "\n",
        "\n",
        "> $\\min_x f(x)$ sujeto a $x\\in\\mathbb{R}^3$\n",
        "\n",
        "donde $f:\\mathbb{R^3}→\\mathbb{R}$ y $x=[x_1,x_2,x_3]^T$. Note que este es un problema de minmización sin restricciones en $\\mathbb{R}^3$. Se sabe que la función es derivable y posee varios minimizadores locales entre los cuales hayun minimizador global, todos con posiciones desconocidas. El objetivo del presente laboratorio bono es implementar y utilizar el algoritmo de descenso de gradiente para identificar la mayor cantidad de candidatos a minimizadores locales dentro de una región dada e identificar el posible minimizador global. \n",
        "\n",
        "*   Implemente su propia rutina del algoritmo de descenso de gradiente teniendo en cuenta que los minimizadores de la función están definida por $x_i ∈ [-5, 5]$ para cada $i = 1, …, 3$. Es decir, cada componente de $x$ està entre $-5$ y $5$. Defina un tamaño del salto $\\alpha$ y un parámetro de criterio de parada $ϵ$ que usted considere conveniente para resolver el problema. Estime el gradiente de la función evaluado en un punto de forma numérica (como se hizo en una práctica anterior), y bajo ninguna circunstancia utilice variables simbólicas.\n",
        "   \n",
        "*    Corra el algoritmo de descenso de gradiente al menos para 500 condiciones iniciales diferentes, y guarde las soluciones resultantes de cada corrida (ya sea definidas de forma aleatoria o haciendo un recorrido definido en la región donde se sabe están los minimizadores locales). Basados en estos resultados, realice una tabla donde incluya los valores aproximados de los candidatos a minimizadores locales (recuerden que cada candidato es un vector 3-dimensional), el candidato a minimizador global, y el respectivo número de iteraciones que el algoritmo de descenso de gradiente requirió para llegar a la respuesta.\n",
        "\n",
        "\\\\\n",
        "\n",
        "Esta actividad funciona como un bono para la nota del primer parcial de los integrantes del grupo. La nota se asignará dependiendo de el correcto seguimiento de las instrucciones anteriores y la cantidad de minimizadores locales reales que su algoritmo encuentre. Cada grupo debe desarrollar su propia solución y no se permitirá copia entre grupos de todo el curso. Una falta ante esto se reportará inmediatamente ante el comité de ética de la facultad. \n",
        "\n"
      ],
      "metadata": {
        "id": "WqexwZZjJUFQ"
      }
    },
    {
      "cell_type": "code",
      "execution_count": 18,
      "metadata": {
        "id": "2XK-Ktgm8D-O",
        "colab": {
          "base_uri": "https://localhost:8080/"
        },
        "outputId": "0270750a-2fe9-4076-f318-dbb005425ab3"
      },
      "outputs": [
        {
          "output_type": "stream",
          "name": "stdout",
          "text": [
            "Looking in indexes: https://pypi.org/simple, https://us-python.pkg.dev/colab-wheels/public/simple/\n",
            "Requirement already satisfied: benchmark_functions in /usr/local/lib/python3.8/dist-packages (1.1.3)\n",
            "Requirement already satisfied: packaging in /usr/local/lib/python3.8/dist-packages (from benchmark_functions) (23.0)\n",
            "Requirement already satisfied: numpy in /usr/local/lib/python3.8/dist-packages (from benchmark_functions) (1.22.4)\n"
          ]
        }
      ],
      "source": [
        "#@title Corra esta celda para cargar los datos del ejercicio\n",
        "!pip install benchmark_functions\n",
        "import benchmark_functions as bf\n",
        "import numpy as np\n",
        "import matplotlib.pyplot as plt\n",
        "\n",
        "# func es el objeto creado con la funcion a minimizar\n",
        "func = bf.StyblinskiTang(n_dimensions=3)"
      ]
    },
    {
      "cell_type": "code",
      "source": [
        "# Dado un punto x0, func permite evaluar la función objetivo en x0 \n",
        "x0 = np.array([1.0, 1.0, 1.0]) \n",
        "f=func(x0)\n",
        "\n",
        "#Algoritmo\n",
        "def descensoGradiente(punto_inicial, epsilon, alpha, ite):\n",
        "  x = punto_inicial\n",
        "  for k in range(1, ite + 1):\n",
        "    #Gradiente\n",
        "    hx = np.array([x[0] + 0.1, x[1], x[2]])\n",
        "    hy = np.array([x[0], x[1] + 0.1, x[2]])\n",
        "    hz = np.array([x[0], x[1], x[2] + 0.1])\n",
        "\n",
        "    gradx = (func(hx) - func(x))/0.1\n",
        "    grady = (func(hy) - func(x))/0.1\n",
        "    gradz = (func(hz) - func(x))/0.1\n",
        "    grad = np.array([gradx, grady, gradz])\n",
        "    #Dirección de movimiento\n",
        "    direc = -alpha*grad   \n",
        "\n",
        "    #Iteración\n",
        "    x = np.add(x, direc)\n",
        "\n",
        "    #Criterio de parada\n",
        "\n",
        "    if np.linalg.norm(grad) <= epsilon:\n",
        "      return x\n",
        "      break\n",
        "\n",
        "    elif k == ite and np.linalg.norm(grad) >= epsilon:\n",
        "      return \"No converge\"\n"
      ],
      "metadata": {
        "id": "YWsqQ0tq9D84"
      },
      "execution_count": 19,
      "outputs": []
    },
    {
      "cell_type": "code",
      "source": [
        "def minimoGlobal():\n",
        "\n",
        "  #Los minimos que vayamos encontrando, los metemos a un array para compararlos luego\n",
        "  minimosCandidatos = np.array([])\n",
        "  minimizadoresCandidatos = np.array([])\n",
        "\n",
        "  epsilon = 0.01\n",
        "  alpha = 0.01\n",
        "  ite = 100\n",
        "\n",
        "\n",
        "\n",
        "\n",
        "  #Hacemos descenso de gradiente 5 veces con puntos iniciales diferentes\n",
        "  for x in range(0,500,1):\n",
        "\n",
        "\n",
        "    #Punto inicial ... x1i x2i x3i \n",
        "    X1i = float(np.random.randint(-5,5))\n",
        "    X2i = float(np.random.randint(-5,5))\n",
        "    X3i = float(np.random.randint(-5,5))\n",
        "    \n",
        "    puntoInicial = np.array([X1i,X2i,X3i])\n",
        "  \n",
        "\n",
        "    #Punto final ... x1f x2f x3f\n",
        "    \n",
        "    \n",
        "    \n",
        "    minimizadorEncontrado = descensoGradiente(puntoInicial, epsilon, alpha, ite)\n",
        "    \n",
        "    if(minimizadorEncontrado != 'No converge'):\n",
        "      minimizadoresCandidatos  = np.append(minimizadoresCandidatos, minimizadorEncontrado)\n",
        "      minimosCandidatos = np.append(minimosCandidatos, func(minimizadorEncontrado)) \n",
        "\n",
        "  #print(minimosCandidatos)\n",
        "\n",
        "  \n",
        "  \n",
        "  \n",
        "  plt.hist(minimosCandidatos)\n",
        "  \n",
        "  \n",
        "  \n",
        "\n",
        "\n",
        "\n",
        "  \n",
        "minimoGlobal()\n",
        "\n",
        "\n",
        "\n"
      ],
      "metadata": {
        "colab": {
          "base_uri": "https://localhost:8080/",
          "height": 300
        },
        "id": "-w9H0-0e-peK",
        "outputId": "6467686a-d2f1-41d2-9b93-06c483ee3709"
      },
      "execution_count": 46,
      "outputs": [
        {
          "output_type": "stream",
          "name": "stderr",
          "text": [
            "<ipython-input-46-d244bc2b766b>:32: FutureWarning: elementwise comparison failed; returning scalar instead, but in the future will perform elementwise comparison\n",
            "  if(minimizadorEncontrado != 'No converge'):\n"
          ]
        },
        {
          "output_type": "display_data",
          "data": {
            "text/plain": [
              "<Figure size 432x288 with 1 Axes>"
            ],
            "image/png": "[encoded data removed]"
          },
          "metadata": {
            "needs_background": "light"
          }
        }
      ]
    }
  ]
}